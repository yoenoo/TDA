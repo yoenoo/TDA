{
 "cells": [
  {
   "cell_type": "code",
   "execution_count": 47,
   "id": "759ceaa1-203d-4253-b91f-91fcbeeb6f84",
   "metadata": {},
   "outputs": [],
   "source": [
    "import numpy as np \n",
    "\n",
    "import torch\n",
    "import torch.nn as nn\n",
    "import torch.nn.functional as F\n",
    "from torch.optim import SGD\n",
    "from torchvision import datasets, transforms\n",
    "from torch.utils.data import DataLoader\n",
    "\n",
    "import matplotlib.pyplot as plt \n",
    "from tqdm.notebook import tqdm, trange"
   ]
  },
  {
   "cell_type": "code",
   "execution_count": 29,
   "id": "d5886409-e1cd-4bd2-850c-c4a9930d3ddb",
   "metadata": {},
   "outputs": [],
   "source": [
    "bs = 128\n",
    "\n",
    "transform = transforms.Compose([\n",
    "    transforms.ToTensor(),\n",
    "])\n",
    "\n",
    "mnist_train = datasets.MNIST(root=\"./data\", train=True, \n",
    "                             download=True, transform=transform)\n",
    "train_loader = torch.utils.data.DataLoader(mnist_train, batch_size=bs)\n",
    "\n",
    "mnist_test = datasets.MNIST(root=\"./data\", train=False, \n",
    "                            download=True, transform=transform)\n",
    "test_loader = torch.utils.data.DataLoader(mnist_test, batch_size=bs)"
   ]
  },
  {
   "cell_type": "code",
   "execution_count": 17,
   "id": "59c81144-ba8d-49c3-b812-d438a6c5bb9a",
   "metadata": {},
   "outputs": [
    {
     "ename": "NameError",
     "evalue": "name 'images_test' is not defined",
     "output_type": "error",
     "traceback": [
      "\u001b[0;31m---------------------------------------------------------------------------\u001b[0m",
      "\u001b[0;31mNameError\u001b[0m                                 Traceback (most recent call last)",
      "Cell \u001b[0;32mIn[17], line 1\u001b[0m\n\u001b[0;32m----> 1\u001b[0m plt\u001b[38;5;241m.\u001b[39mimshow(\u001b[43mimages_test\u001b[49m[\u001b[38;5;241m144\u001b[39m], cmap\u001b[38;5;241m=\u001b[39m\u001b[38;5;124m\"\u001b[39m\u001b[38;5;124mGreys\u001b[39m\u001b[38;5;124m\"\u001b[39m)\n",
      "\u001b[0;31mNameError\u001b[0m: name 'images_test' is not defined"
     ]
    }
   ],
   "source": [
    "plt.imshow(images_test[144], cmap=\"Greys\");"
   ]
  },
  {
   "cell_type": "code",
   "execution_count": 32,
   "id": "70125b1e-4f5f-4107-958a-73194dcba820",
   "metadata": {},
   "outputs": [],
   "source": [
    "class MLP(nn.Module):\n",
    "    def __init__(self, f_in, f_out):\n",
    "        super().__init__()\n",
    "        self.fc = nn.Linear(f_in, f_out)\n",
    "        self.sigmoid = nn.Sigmoid()\n",
    "    \n",
    "    def forward(self, x):\n",
    "        x = self.fc(x)\n",
    "        x = self.sigmoid(x)\n",
    "        return x"
   ]
  },
  {
   "cell_type": "code",
   "execution_count": 48,
   "id": "f73aeb1c-b498-4cb9-bbe1-7cb984b236f3",
   "metadata": {},
   "outputs": [],
   "source": [
    "model = MLP(28*28, 10)"
   ]
  },
  {
   "cell_type": "code",
   "execution_count": null,
   "id": "6b21d157-9bd7-4dff-8790-28b99ba022fe",
   "metadata": {},
   "outputs": [
    {
     "data": {
      "application/json": {
       "ascii": false,
       "bar_format": null,
       "colour": null,
       "elapsed": 0.009560108184814453,
       "initial": 0,
       "n": 0,
       "ncols": null,
       "nrows": 25,
       "postfix": null,
       "prefix": "",
       "rate": null,
       "total": 50,
       "unit": "it",
       "unit_divisor": 1000,
       "unit_scale": false
      },
      "application/vnd.jupyter.widget-view+json": {
       "model_id": "db53c0f6cbc1442e8da3858707c36ace",
       "version_major": 2,
       "version_minor": 0
      },
      "text/plain": [
       "  0%|          | 0/50 [00:00<?, ?it/s]"
      ]
     },
     "metadata": {},
     "output_type": "display_data"
    }
   ],
   "source": [
    "optimizer = SGD(model.parameters(), lr=1e-3)\n",
    "\n",
    "epochs = 50\n",
    "\n",
    "model.train()\n",
    "for epoch in (pbar := trange(epochs)):\n",
    "    batch_losses = []\n",
    "    for batch_idx, (data, target) in enumerate(train_loader):\n",
    "        optimizer.zero_grad()\n",
    "\n",
    "        data = data.reshape(-1, 28*28)\n",
    "        output = model(data)\n",
    "\n",
    "        loss = F.cross_entropy(output, target)\n",
    "        loss.backward()\n",
    "        optimizer.step()\n",
    "        \n",
    "        batch_losses.append(loss.item())\n",
    "        \n",
    "    epoch_loss = np.mean(batch_losses)\n",
    "    pbar.set_description(f\"Epoch: {epoch}, Average loss: {epoch_loss:.4f}\")"
   ]
  },
  {
   "cell_type": "code",
   "execution_count": null,
   "id": "0518f837-59bb-485d-87c6-7d616bed110b",
   "metadata": {},
   "outputs": [],
   "source": []
  }
 ],
 "metadata": {
  "kernelspec": {
   "display_name": "Python 3 (ipykernel)",
   "language": "python",
   "name": "python3"
  },
  "language_info": {
   "codemirror_mode": {
    "name": "ipython",
    "version": 3
   },
   "file_extension": ".py",
   "mimetype": "text/x-python",
   "name": "python",
   "nbconvert_exporter": "python",
   "pygments_lexer": "ipython3",
   "version": "3.9.12"
  }
 },
 "nbformat": 4,
 "nbformat_minor": 5
}
